{
 "cells": [
  {
   "cell_type": "code",
   "execution_count": 1,
   "metadata": {},
   "outputs": [
    {
     "name": "stderr",
     "output_type": "stream",
     "text": [
      "/Users/amir/Documents/projects/fall-detection/.venv/lib/python3.9/site-packages/urllib3/__init__.py:35: NotOpenSSLWarning: urllib3 v2 only supports OpenSSL 1.1.1+, currently the 'ssl' module is compiled with 'LibreSSL 2.8.3'. See: https://github.com/urllib3/urllib3/issues/3020\n",
      "  warnings.warn(\n"
     ]
    }
   ],
   "source": [
    "import pandas as pd\n",
    "import numpy as np\n",
    "import os\n",
    "from run_fall_detection_model  import run_fall_detection_model\n"
   ]
  },
  {
   "cell_type": "code",
   "execution_count": 2,
   "metadata": {},
   "outputs": [
    {
     "data": {
      "text/plain": [
       "(198, 678)"
      ]
     },
     "execution_count": 2,
     "metadata": {},
     "output_type": "execute_result"
    }
   ],
   "source": [
    "\n",
    "def search_csv_files(directory,activities_of_interest = None):\n",
    "    csv_files = []\n",
    "    for current_folder, _, files in os.walk(directory):\n",
    "        for file in files:\n",
    "            if file.endswith('.csv'):\n",
    "                if activities_of_interest is not None:\n",
    "                    for activity in activities_of_interest:\n",
    "                        if activity in file:\n",
    "                            full_path = os.path.join(current_folder, file)\n",
    "                            csv_files.append(full_path)\n",
    "                            break\n",
    "                else:\n",
    "                    full_path = os.path.join(current_folder, file)\n",
    "                    csv_files.append(full_path)\n",
    "                    break\n",
    "    return csv_files\n",
    "\n",
    "\n",
    "\n",
    "falls_files = search_csv_files(directory='output', activities_of_interest=['Activity13', 'Activity14', 'Activity15'])\n",
    "adl_files = search_csv_files(directory='output', activities_of_interest=['Activity1', 'Activity2', 'Activity3', 'Activity4', 'Activity5', 'Activity6', 'Activity7', 'Activity8', 'Activity9', 'Activity10', 'Activity11', 'Activity12'])\n",
    "\n",
    "len(falls_files), len(adl_files)\n"
   ]
  },
  {
   "cell_type": "code",
   "execution_count": 3,
   "metadata": {},
   "outputs": [],
   "source": [
    "def load_and_pad(file, use_gyro=False, max_len=300):\n",
    "    # Read the CSV file\n",
    "    df = pd.read_csv(file)\n",
    "    \n",
    "    # Define the columns to use\n",
    "    if use_gyro:\n",
    "        cols = ['Accelerometer: x-axis (g)', 'Accelerometer: y-axis (g)', 'Accelerometer: z-axis (g)',\n",
    "                'Gyroscope: x-axis (rad/s)', 'Gyroscope: y-axis (rad/s)', 'Gyroscope: z-axis (rad/s)']\n",
    "    else:\n",
    "        cols = ['Accelerometer: x-axis (g)', 'Accelerometer: y-axis (g)', 'Accelerometer: z-axis (g)']\n",
    "    \n",
    "    # Clean and convert data for each column\n",
    "    for col in cols:\n",
    "        if df[col].dtype == 'object':  # If column has string values\n",
    "            # Replace incorrect number format (assuming European format with '.' as thousand separator)\n",
    "            df[col] = df[col].astype(str).str.replace('.', '', n=1)  # Remove first period (thousand separator)\n",
    "            df[col] = pd.to_numeric(df[col].str.replace(',', '.'), errors='coerce')  # Replace comma with period for decimal\n",
    "\n",
    "    # Extract features and convert to numpy array\n",
    "    features = df[cols].to_numpy().astype('float32')\n",
    "    \n",
    "    # Pad or truncate as needed\n",
    "    if features.shape[0] > max_len:\n",
    "        features = features[:max_len, :]\n",
    "    elif features.shape[0] < max_len:\n",
    "        pad = np.zeros((max_len - features.shape[0], features.shape[1]), dtype='float32')\n",
    "        features = np.vstack((features, pad))\n",
    "    \n",
    "    return features\n",
    "\n",
    "\n",
    "\n",
    "\n",
    "def build_dataset(falls_files, adl_files, max_len=300):\n",
    "    X_acc, X_all, y = [], [], []\n",
    "\n",
    "    for file in falls_files:\n",
    "        X_acc.append(load_and_pad(file, use_gyro=False, max_len=max_len))\n",
    "        X_all.append(load_and_pad(file, use_gyro=True, max_len=max_len))\n",
    "        y.append(1)\n",
    "\n",
    "    for file in adl_files:\n",
    "        X_acc.append(load_and_pad(file, use_gyro=False, max_len=max_len))\n",
    "        X_all.append(load_and_pad(file, use_gyro=True, max_len=max_len))\n",
    "        y.append(0)\n",
    "\n",
    "    return np.array(X_acc), np.array(X_all), np.array(y)\n",
    "\n"
   ]
  },
  {
   "cell_type": "code",
   "execution_count": 4,
   "metadata": {},
   "outputs": [
    {
     "name": "stdout",
     "output_type": "stream",
     "text": [
      "Accelerometer only: (876, 300, 3)\n",
      "Accelerometer + Gyroscope: (876, 300, 6)\n",
      "Labels: (876,)\n"
     ]
    }
   ],
   "source": [
    "X_acc, X_all, y = build_dataset(falls_files, adl_files)\n",
    "\n",
    "\n",
    "print(\"Accelerometer only:\", X_acc.shape)\n",
    "print(\"Accelerometer + Gyroscope:\", X_all.shape)\n",
    "print(\"Labels:\", y.shape)"
   ]
  },
  {
   "cell_type": "code",
   "execution_count": 5,
   "metadata": {},
   "outputs": [
    {
     "name": "stdout",
     "output_type": "stream",
     "text": [
      "Removed 19 samples due to NaNs.\n",
      "✅ SMOTE done:\n",
      "X shape: (1318, 300, 3)\n",
      "Label counts: [659 659]\n"
     ]
    },
    {
     "name": "stderr",
     "output_type": "stream",
     "text": [
      "/Users/amir/Documents/projects/fall-detection/.venv/lib/python3.9/site-packages/sklearn/base.py:474: FutureWarning: `BaseEstimator._validate_data` is deprecated in 1.6 and will be removed in 1.7. Use `sklearn.utils.validation.validate_data` instead. This function becomes public and is part of the scikit-learn developer API.\n",
      "  warnings.warn(\n"
     ]
    }
   ],
   "source": [
    "from imblearn.over_sampling import SMOTE\n",
    "\n",
    "USE_GYRO = False\n",
    "\n",
    "X = X_all if USE_GYRO else X_acc\n",
    "X_2d = X.reshape((X.shape[0], -1))\n",
    "\n",
    "# Remove samples with NaNs\n",
    "mask = ~np.isnan(X_2d).any(axis=1)\n",
    "X_clean = X_2d[mask]\n",
    "y_clean = y[mask]\n",
    "\n",
    "print(f\"Removed {len(y) - len(y_clean)} samples due to NaNs.\")\n",
    "\n",
    "smote = SMOTE(random_state=42)\n",
    "X_resampled, y_resampled = smote.fit_resample(X_clean, y_clean)\n",
    "\n",
    "# Reshape back to 3D for CNN\n",
    "X_resampled = X_resampled.reshape((-1, 300, X.shape[2]))\n",
    "\n",
    "print(\"✅ SMOTE done:\")\n",
    "print(\"X shape:\", X_resampled.shape)\n",
    "print(\"Label counts:\", np.bincount(y_resampled))"
   ]
  },
  {
   "cell_type": "code",
   "execution_count": 6,
   "metadata": {},
   "outputs": [
    {
     "name": "stdout",
     "output_type": "stream",
     "text": [
      "Removed 19 samples due to NaNs.\n",
      "✅ SMOTE applied\n",
      "X shape: (1318, 300, 3)\n",
      "Label counts: [659 659]\n",
      "Epoch 1/20\n"
     ]
    },
    {
     "name": "stderr",
     "output_type": "stream",
     "text": [
      "/Users/amir/Documents/projects/fall-detection/.venv/lib/python3.9/site-packages/sklearn/base.py:474: FutureWarning: `BaseEstimator._validate_data` is deprecated in 1.6 and will be removed in 1.7. Use `sklearn.utils.validation.validate_data` instead. This function becomes public and is part of the scikit-learn developer API.\n",
      "  warnings.warn(\n"
     ]
    },
    {
     "name": "stdout",
     "output_type": "stream",
     "text": [
      "\u001b[1m27/27\u001b[0m \u001b[32m━━━━━━━━━━━━━━━━━━━━\u001b[0m\u001b[37m\u001b[0m \u001b[1m1s\u001b[0m 7ms/step - accuracy: 0.6263 - loss: 0.6072 - val_accuracy: 0.7867 - val_loss: 0.5282\n",
      "Epoch 2/20\n",
      "\u001b[1m27/27\u001b[0m \u001b[32m━━━━━━━━━━━━━━━━━━━━\u001b[0m\u001b[37m\u001b[0m \u001b[1m0s\u001b[0m 5ms/step - accuracy: 0.8317 - loss: 0.4341 - val_accuracy: 0.7962 - val_loss: 0.4597\n",
      "Epoch 3/20\n",
      "\u001b[1m27/27\u001b[0m \u001b[32m━━━━━━━━━━━━━━━━━━━━\u001b[0m\u001b[37m\u001b[0m \u001b[1m0s\u001b[0m 5ms/step - accuracy: 0.8383 - loss: 0.3959 - val_accuracy: 0.7962 - val_loss: 0.4648\n",
      "Epoch 4/20\n",
      "\u001b[1m27/27\u001b[0m \u001b[32m━━━━━━━━━━━━━━━━━━━━\u001b[0m\u001b[37m\u001b[0m \u001b[1m0s\u001b[0m 5ms/step - accuracy: 0.8332 - loss: 0.4011 - val_accuracy: 0.8009 - val_loss: 0.4647\n",
      "Epoch 5/20\n",
      "\u001b[1m27/27\u001b[0m \u001b[32m━━━━━━━━━━━━━━━━━━━━\u001b[0m\u001b[37m\u001b[0m \u001b[1m0s\u001b[0m 5ms/step - accuracy: 0.8649 - loss: 0.3514 - val_accuracy: 0.7962 - val_loss: 0.4621\n",
      "Epoch 6/20\n",
      "\u001b[1m27/27\u001b[0m \u001b[32m━━━━━━━━━━━━━━━━━━━━\u001b[0m\u001b[37m\u001b[0m \u001b[1m0s\u001b[0m 5ms/step - accuracy: 0.8315 - loss: 0.3820 - val_accuracy: 0.8009 - val_loss: 0.4605\n",
      "Epoch 7/20\n",
      "\u001b[1m27/27\u001b[0m \u001b[32m━━━━━━━━━━━━━━━━━━━━\u001b[0m\u001b[37m\u001b[0m \u001b[1m0s\u001b[0m 6ms/step - accuracy: 0.8365 - loss: 0.3767 - val_accuracy: 0.7915 - val_loss: 0.4826\n",
      "Epoch 8/20\n",
      "\u001b[1m27/27\u001b[0m \u001b[32m━━━━━━━━━━━━━━━━━━━━\u001b[0m\u001b[37m\u001b[0m \u001b[1m0s\u001b[0m 5ms/step - accuracy: 0.8486 - loss: 0.3447 - val_accuracy: 0.7773 - val_loss: 0.4763\n",
      "Epoch 9/20\n",
      "\u001b[1m27/27\u001b[0m \u001b[32m━━━━━━━━━━━━━━━━━━━━\u001b[0m\u001b[37m\u001b[0m \u001b[1m0s\u001b[0m 5ms/step - accuracy: 0.8512 - loss: 0.3405 - val_accuracy: 0.7867 - val_loss: 0.4641\n",
      "Epoch 10/20\n",
      "\u001b[1m27/27\u001b[0m \u001b[32m━━━━━━━━━━━━━━━━━━━━\u001b[0m\u001b[37m\u001b[0m \u001b[1m0s\u001b[0m 4ms/step - accuracy: 0.8512 - loss: 0.3497 - val_accuracy: 0.7773 - val_loss: 0.4978\n",
      "Epoch 11/20\n",
      "\u001b[1m27/27\u001b[0m \u001b[32m━━━━━━━━━━━━━━━━━━━━\u001b[0m\u001b[37m\u001b[0m \u001b[1m0s\u001b[0m 5ms/step - accuracy: 0.8473 - loss: 0.3561 - val_accuracy: 0.7820 - val_loss: 0.4997\n",
      "Epoch 12/20\n",
      "\u001b[1m27/27\u001b[0m \u001b[32m━━━━━━━━━━━━━━━━━━━━\u001b[0m\u001b[37m\u001b[0m \u001b[1m0s\u001b[0m 5ms/step - accuracy: 0.8655 - loss: 0.3049 - val_accuracy: 0.7773 - val_loss: 0.5217\n",
      "Epoch 13/20\n",
      "\u001b[1m27/27\u001b[0m \u001b[32m━━━━━━━━━━━━━━━━━━━━\u001b[0m\u001b[37m\u001b[0m \u001b[1m0s\u001b[0m 6ms/step - accuracy: 0.8673 - loss: 0.3161 - val_accuracy: 0.7867 - val_loss: 0.5213\n",
      "Epoch 14/20\n",
      "\u001b[1m27/27\u001b[0m \u001b[32m━━━━━━━━━━━━━━━━━━━━\u001b[0m\u001b[37m\u001b[0m \u001b[1m0s\u001b[0m 5ms/step - accuracy: 0.8615 - loss: 0.3228 - val_accuracy: 0.7773 - val_loss: 0.5314\n",
      "Epoch 15/20\n",
      "\u001b[1m27/27\u001b[0m \u001b[32m━━━━━━━━━━━━━━━━━━━━\u001b[0m\u001b[37m\u001b[0m \u001b[1m0s\u001b[0m 5ms/step - accuracy: 0.8555 - loss: 0.3245 - val_accuracy: 0.7915 - val_loss: 0.5717\n",
      "Epoch 16/20\n",
      "\u001b[1m27/27\u001b[0m \u001b[32m━━━━━━━━━━━━━━━━━━━━\u001b[0m\u001b[37m\u001b[0m \u001b[1m0s\u001b[0m 6ms/step - accuracy: 0.8768 - loss: 0.2940 - val_accuracy: 0.7867 - val_loss: 0.5388\n",
      "Epoch 17/20\n",
      "\u001b[1m27/27\u001b[0m \u001b[32m━━━━━━━━━━━━━━━━━━━━\u001b[0m\u001b[37m\u001b[0m \u001b[1m0s\u001b[0m 4ms/step - accuracy: 0.8813 - loss: 0.2856 - val_accuracy: 0.7773 - val_loss: 0.5801\n",
      "Epoch 18/20\n",
      "\u001b[1m27/27\u001b[0m \u001b[32m━━━━━━━━━━━━━━━━━━━━\u001b[0m\u001b[37m\u001b[0m \u001b[1m0s\u001b[0m 5ms/step - accuracy: 0.8728 - loss: 0.3016 - val_accuracy: 0.7583 - val_loss: 0.5760\n",
      "Epoch 19/20\n",
      "\u001b[1m27/27\u001b[0m \u001b[32m━━━━━━━━━━━━━━━━━━━━\u001b[0m\u001b[37m\u001b[0m \u001b[1m0s\u001b[0m 5ms/step - accuracy: 0.8790 - loss: 0.2808 - val_accuracy: 0.7773 - val_loss: 0.5581\n",
      "Epoch 20/20\n",
      "\u001b[1m27/27\u001b[0m \u001b[32m━━━━━━━━━━━━━━━━━━━━\u001b[0m\u001b[37m\u001b[0m \u001b[1m0s\u001b[0m 5ms/step - accuracy: 0.8710 - loss: 0.2801 - val_accuracy: 0.7820 - val_loss: 0.6364\n",
      "\u001b[1m9/9\u001b[0m \u001b[32m━━━━━━━━━━━━━━━━━━━━\u001b[0m\u001b[37m\u001b[0m \u001b[1m0s\u001b[0m 5ms/step \n"
     ]
    },
    {
     "data": {
      "image/png": "[encoded data removed]",
      "text/plain": [
       "<Figure size 600x400 with 2 Axes>"
      ]
     },
     "metadata": {},
     "output_type": "display_data"
    },
    {
     "name": "stdout",
     "output_type": "stream",
     "text": [
      "\n",
      "✅ Test Accuracy: 0.78\n",
      "\n",
      "📝 Classification Report:\n",
      "              precision    recall  f1-score   support\n",
      "\n",
      "           0       0.86      0.67      0.75       132\n",
      "           1       0.73      0.89      0.80       132\n",
      "\n",
      "    accuracy                           0.78       264\n",
      "   macro avg       0.80      0.78      0.78       264\n",
      "weighted avg       0.80      0.78      0.78       264\n",
      "\n"
     ]
    }
   ],
   "source": [
    "model, history = run_fall_detection_model(X_acc, X_all, y)\n"
   ]
  },
  {
   "cell_type": "code",
   "execution_count": 7,
   "metadata": {},
   "outputs": [
    {
     "name": "stdout",
     "output_type": "stream",
     "text": [
      "Removed 19 samples due to NaNs.\n",
      "✅ SMOTE applied\n",
      "X shape: (1318, 300, 6)\n",
      "Label counts: [659 659]\n",
      "Epoch 1/20\n"
     ]
    },
    {
     "name": "stderr",
     "output_type": "stream",
     "text": [
      "/Users/amir/Documents/projects/fall-detection/.venv/lib/python3.9/site-packages/sklearn/base.py:474: FutureWarning: `BaseEstimator._validate_data` is deprecated in 1.6 and will be removed in 1.7. Use `sklearn.utils.validation.validate_data` instead. This function becomes public and is part of the scikit-learn developer API.\n",
      "  warnings.warn(\n"
     ]
    },
    {
     "name": "stdout",
     "output_type": "stream",
     "text": [
      "\u001b[1m27/27\u001b[0m \u001b[32m━━━━━━━━━━━━━━━━━━━━\u001b[0m\u001b[37m\u001b[0m \u001b[1m1s\u001b[0m 8ms/step - accuracy: 0.6628 - loss: 0.6255 - val_accuracy: 0.8009 - val_loss: 0.4628\n",
      "Epoch 2/20\n",
      "\u001b[1m27/27\u001b[0m \u001b[32m━━━━━━━━━━━━━━━━━━━━\u001b[0m\u001b[37m\u001b[0m \u001b[1m0s\u001b[0m 5ms/step - accuracy: 0.8292 - loss: 0.4306 - val_accuracy: 0.8104 - val_loss: 0.4558\n",
      "Epoch 3/20\n",
      "\u001b[1m27/27\u001b[0m \u001b[32m━━━━━━━━━━━━━━━━━━━━\u001b[0m\u001b[37m\u001b[0m \u001b[1m0s\u001b[0m 5ms/step - accuracy: 0.8714 - loss: 0.3562 - val_accuracy: 0.7962 - val_loss: 0.4377\n",
      "Epoch 4/20\n",
      "\u001b[1m27/27\u001b[0m \u001b[32m━━━━━━━━━━━━━━━━━━━━\u001b[0m\u001b[37m\u001b[0m \u001b[1m0s\u001b[0m 5ms/step - accuracy: 0.8540 - loss: 0.3623 - val_accuracy: 0.8057 - val_loss: 0.4826\n",
      "Epoch 5/20\n",
      "\u001b[1m27/27\u001b[0m \u001b[32m━━━━━━━━━━━━━━━━━━━━\u001b[0m\u001b[37m\u001b[0m \u001b[1m0s\u001b[0m 5ms/step - accuracy: 0.8521 - loss: 0.3424 - val_accuracy: 0.7915 - val_loss: 0.4820\n",
      "Epoch 6/20\n",
      "\u001b[1m27/27\u001b[0m \u001b[32m━━━━━━━━━━━━━━━━━━━━\u001b[0m\u001b[37m\u001b[0m \u001b[1m0s\u001b[0m 5ms/step - accuracy: 0.8564 - loss: 0.3303 - val_accuracy: 0.7915 - val_loss: 0.4865\n",
      "Epoch 7/20\n",
      "\u001b[1m27/27\u001b[0m \u001b[32m━━━━━━━━━━━━━━━━━━━━\u001b[0m\u001b[37m\u001b[0m \u001b[1m0s\u001b[0m 5ms/step - accuracy: 0.8616 - loss: 0.3320 - val_accuracy: 0.7915 - val_loss: 0.5888\n",
      "Epoch 8/20\n",
      "\u001b[1m27/27\u001b[0m \u001b[32m━━━━━━━━━━━━━━━━━━━━\u001b[0m\u001b[37m\u001b[0m \u001b[1m0s\u001b[0m 4ms/step - accuracy: 0.8463 - loss: 0.3185 - val_accuracy: 0.7962 - val_loss: 0.5625\n",
      "Epoch 9/20\n",
      "\u001b[1m27/27\u001b[0m \u001b[32m━━━━━━━━━━━━━━━━━━━━\u001b[0m\u001b[37m\u001b[0m \u001b[1m0s\u001b[0m 5ms/step - accuracy: 0.8839 - loss: 0.2915 - val_accuracy: 0.7725 - val_loss: 0.5447\n",
      "Epoch 10/20\n",
      "\u001b[1m27/27\u001b[0m \u001b[32m━━━━━━━━━━━━━━━━━━━━\u001b[0m\u001b[37m\u001b[0m \u001b[1m0s\u001b[0m 5ms/step - accuracy: 0.8633 - loss: 0.3083 - val_accuracy: 0.7678 - val_loss: 0.6197\n",
      "Epoch 11/20\n",
      "\u001b[1m27/27\u001b[0m \u001b[32m━━━━━━━━━━━━━━━━━━━━\u001b[0m\u001b[37m\u001b[0m \u001b[1m0s\u001b[0m 5ms/step - accuracy: 0.8394 - loss: 0.3174 - val_accuracy: 0.7678 - val_loss: 0.6403\n",
      "Epoch 12/20\n",
      "\u001b[1m27/27\u001b[0m \u001b[32m━━━━━━━━━━━━━━━━━━━━\u001b[0m\u001b[37m\u001b[0m \u001b[1m0s\u001b[0m 5ms/step - accuracy: 0.8815 - loss: 0.2714 - val_accuracy: 0.7393 - val_loss: 0.6334\n",
      "Epoch 13/20\n",
      "\u001b[1m27/27\u001b[0m \u001b[32m━━━━━━━━━━━━━━━━━━━━\u001b[0m\u001b[37m\u001b[0m \u001b[1m0s\u001b[0m 5ms/step - accuracy: 0.8615 - loss: 0.3132 - val_accuracy: 0.7630 - val_loss: 0.6367\n",
      "Epoch 14/20\n",
      "\u001b[1m27/27\u001b[0m \u001b[32m━━━━━━━━━━━━━━━━━━━━\u001b[0m\u001b[37m\u001b[0m \u001b[1m0s\u001b[0m 5ms/step - accuracy: 0.8705 - loss: 0.2863 - val_accuracy: 0.7725 - val_loss: 0.7060\n",
      "Epoch 15/20\n",
      "\u001b[1m27/27\u001b[0m \u001b[32m━━━━━━━━━━━━━━━━━━━━\u001b[0m\u001b[37m\u001b[0m \u001b[1m0s\u001b[0m 5ms/step - accuracy: 0.8809 - loss: 0.2700 - val_accuracy: 0.7536 - val_loss: 0.6901\n",
      "Epoch 16/20\n",
      "\u001b[1m27/27\u001b[0m \u001b[32m━━━━━━━━━━━━━━━━━━━━\u001b[0m\u001b[37m\u001b[0m \u001b[1m0s\u001b[0m 5ms/step - accuracy: 0.8624 - loss: 0.2756 - val_accuracy: 0.7630 - val_loss: 0.7601\n",
      "Epoch 17/20\n",
      "\u001b[1m27/27\u001b[0m \u001b[32m━━━━━━━━━━━━━━━━━━━━\u001b[0m\u001b[37m\u001b[0m \u001b[1m0s\u001b[0m 5ms/step - accuracy: 0.8623 - loss: 0.2797 - val_accuracy: 0.7678 - val_loss: 0.7381\n",
      "Epoch 18/20\n",
      "\u001b[1m27/27\u001b[0m \u001b[32m━━━━━━━━━━━━━━━━━━━━\u001b[0m\u001b[37m\u001b[0m \u001b[1m0s\u001b[0m 5ms/step - accuracy: 0.8886 - loss: 0.2668 - val_accuracy: 0.7346 - val_loss: 0.7531\n",
      "Epoch 19/20\n",
      "\u001b[1m27/27\u001b[0m \u001b[32m━━━━━━━━━━━━━━━━━━━━\u001b[0m\u001b[37m\u001b[0m \u001b[1m0s\u001b[0m 5ms/step - accuracy: 0.8761 - loss: 0.2833 - val_accuracy: 0.7299 - val_loss: 0.6867\n",
      "Epoch 20/20\n",
      "\u001b[1m27/27\u001b[0m \u001b[32m━━━━━━━━━━━━━━━━━━━━\u001b[0m\u001b[37m\u001b[0m \u001b[1m0s\u001b[0m 5ms/step - accuracy: 0.8600 - loss: 0.2875 - val_accuracy: 0.7488 - val_loss: 0.8020\n",
      "\u001b[1m9/9\u001b[0m \u001b[32m━━━━━━━━━━━━━━━━━━━━\u001b[0m\u001b[37m\u001b[0m \u001b[1m0s\u001b[0m 4ms/step \n"
     ]
    },
    {
     "data": {
      "image/png": "[encoded data removed]",
      "text/plain": [
       "<Figure size 600x400 with 2 Axes>"
      ]
     },
     "metadata": {},
     "output_type": "display_data"
    },
    {
     "name": "stdout",
     "output_type": "stream",
     "text": [
      "\n",
      "✅ Test Accuracy: 0.74\n",
      "\n",
      "📝 Classification Report:\n",
      "              precision    recall  f1-score   support\n",
      "\n",
      "           0       0.77      0.67      0.72       132\n",
      "           1       0.71      0.80      0.75       132\n",
      "\n",
      "    accuracy                           0.74       264\n",
      "   macro avg       0.74      0.74      0.74       264\n",
      "weighted avg       0.74      0.74      0.74       264\n",
      "\n"
     ]
    }
   ],
   "source": [
    "model, history = run_fall_detection_model(X_acc, X_all, y, use_gyro=True)"
   ]
  },
  {
   "cell_type": "code",
   "execution_count": 8,
   "metadata": {},
   "outputs": [
    {
     "name": "stdout",
     "output_type": "stream",
     "text": [
      "Removed 19 samples due to NaNs.\n",
      "Epoch 1/20\n",
      "\u001b[1m18/18\u001b[0m \u001b[32m━━━━━━━━━━━━━━━━━━━━\u001b[0m\u001b[37m\u001b[0m \u001b[1m1s\u001b[0m 9ms/step - accuracy: 0.6994 - loss: 0.5719 - val_accuracy: 0.7518 - val_loss: 0.4448\n",
      "Epoch 2/20\n",
      "\u001b[1m18/18\u001b[0m \u001b[32m━━━━━━━━━━━━━━━━━━━━\u001b[0m\u001b[37m\u001b[0m \u001b[1m0s\u001b[0m 5ms/step - accuracy: 0.7600 - loss: 0.4172 - val_accuracy: 0.7810 - val_loss: 0.3922\n",
      "Epoch 3/20\n",
      "\u001b[1m18/18\u001b[0m \u001b[32m━━━━━━━━━━━━━━━━━━━━\u001b[0m\u001b[37m\u001b[0m \u001b[1m0s\u001b[0m 5ms/step - accuracy: 0.7727 - loss: 0.3762 - val_accuracy: 0.7445 - val_loss: 0.3897\n",
      "Epoch 4/20\n",
      "\u001b[1m18/18\u001b[0m \u001b[32m━━━━━━━━━━━━━━━━━━━━\u001b[0m\u001b[37m\u001b[0m \u001b[1m0s\u001b[0m 5ms/step - accuracy: 0.7664 - loss: 0.3536 - val_accuracy: 0.7372 - val_loss: 0.4096\n",
      "Epoch 5/20\n",
      "\u001b[1m18/18\u001b[0m \u001b[32m━━━━━━━━━━━━━━━━━━━━\u001b[0m\u001b[37m\u001b[0m \u001b[1m0s\u001b[0m 5ms/step - accuracy: 0.8032 - loss: 0.3442 - val_accuracy: 0.7445 - val_loss: 0.3912\n",
      "Epoch 6/20\n",
      "\u001b[1m18/18\u001b[0m \u001b[32m━━━━━━━━━━━━━━━━━━━━\u001b[0m\u001b[37m\u001b[0m \u001b[1m0s\u001b[0m 5ms/step - accuracy: 0.8090 - loss: 0.3405 - val_accuracy: 0.7080 - val_loss: 0.3911\n",
      "Epoch 7/20\n",
      "\u001b[1m18/18\u001b[0m \u001b[32m━━━━━━━━━━━━━━━━━━━━\u001b[0m\u001b[37m\u001b[0m \u001b[1m0s\u001b[0m 5ms/step - accuracy: 0.7798 - loss: 0.3746 - val_accuracy: 0.7153 - val_loss: 0.4080\n",
      "Epoch 8/20\n",
      "\u001b[1m18/18\u001b[0m \u001b[32m━━━━━━━━━━━━━━━━━━━━\u001b[0m\u001b[37m\u001b[0m \u001b[1m0s\u001b[0m 5ms/step - accuracy: 0.7981 - loss: 0.3489 - val_accuracy: 0.6934 - val_loss: 0.4015\n",
      "Epoch 9/20\n",
      "\u001b[1m18/18\u001b[0m \u001b[32m━━━━━━━━━━━━━━━━━━━━\u001b[0m\u001b[37m\u001b[0m \u001b[1m0s\u001b[0m 5ms/step - accuracy: 0.8006 - loss: 0.3200 - val_accuracy: 0.6861 - val_loss: 0.4333\n",
      "Epoch 10/20\n",
      "\u001b[1m18/18\u001b[0m \u001b[32m━━━━━━━━━━━━━━━━━━━━\u001b[0m\u001b[37m\u001b[0m \u001b[1m0s\u001b[0m 5ms/step - accuracy: 0.8026 - loss: 0.2971 - val_accuracy: 0.7007 - val_loss: 0.4260\n",
      "Epoch 11/20\n",
      "\u001b[1m18/18\u001b[0m \u001b[32m━━━━━━━━━━━━━━━━━━━━\u001b[0m\u001b[37m\u001b[0m \u001b[1m0s\u001b[0m 5ms/step - accuracy: 0.7912 - loss: 0.3318 - val_accuracy: 0.6861 - val_loss: 0.4360\n",
      "Epoch 12/20\n",
      "\u001b[1m18/18\u001b[0m \u001b[32m━━━━━━━━━━━━━━━━━━━━\u001b[0m\u001b[37m\u001b[0m \u001b[1m0s\u001b[0m 5ms/step - accuracy: 0.8332 - loss: 0.3145 - val_accuracy: 0.6934 - val_loss: 0.4548\n",
      "Epoch 13/20\n",
      "\u001b[1m18/18\u001b[0m \u001b[32m━━━━━━━━━━━━━━━━━━━━\u001b[0m\u001b[37m\u001b[0m \u001b[1m0s\u001b[0m 5ms/step - accuracy: 0.8432 - loss: 0.3128 - val_accuracy: 0.6861 - val_loss: 0.4575\n",
      "Epoch 14/20\n",
      "\u001b[1m18/18\u001b[0m \u001b[32m━━━━━━━━━━━━━━━━━━━━\u001b[0m\u001b[37m\u001b[0m \u001b[1m0s\u001b[0m 5ms/step - accuracy: 0.8590 - loss: 0.2702 - val_accuracy: 0.6861 - val_loss: 0.4870\n",
      "Epoch 15/20\n",
      "\u001b[1m18/18\u001b[0m \u001b[32m━━━━━━━━━━━━━━━━━━━━\u001b[0m\u001b[37m\u001b[0m \u001b[1m0s\u001b[0m 5ms/step - accuracy: 0.7884 - loss: 0.3233 - val_accuracy: 0.6569 - val_loss: 0.4923\n",
      "Epoch 16/20\n",
      "\u001b[1m18/18\u001b[0m \u001b[32m━━━━━━━━━━━━━━━━━━━━\u001b[0m\u001b[37m\u001b[0m \u001b[1m0s\u001b[0m 6ms/step - accuracy: 0.8207 - loss: 0.2987 - val_accuracy: 0.6569 - val_loss: 0.4997\n",
      "Epoch 17/20\n",
      "\u001b[1m18/18\u001b[0m \u001b[32m━━━━━━━━━━━━━━━━━━━━\u001b[0m\u001b[37m\u001b[0m \u001b[1m0s\u001b[0m 5ms/step - accuracy: 0.7964 - loss: 0.3017 - val_accuracy: 0.6569 - val_loss: 0.4928\n",
      "Epoch 18/20\n",
      "\u001b[1m18/18\u001b[0m \u001b[32m━━━━━━━━━━━━━━━━━━━━\u001b[0m\u001b[37m\u001b[0m \u001b[1m0s\u001b[0m 5ms/step - accuracy: 0.8189 - loss: 0.2882 - val_accuracy: 0.6569 - val_loss: 0.5384\n",
      "Epoch 19/20\n",
      "\u001b[1m18/18\u001b[0m \u001b[32m━━━━━━━━━━━━━━━━━━━━\u001b[0m\u001b[37m\u001b[0m \u001b[1m0s\u001b[0m 5ms/step - accuracy: 0.8219 - loss: 0.2981 - val_accuracy: 0.6350 - val_loss: 0.5379\n",
      "Epoch 20/20\n",
      "\u001b[1m18/18\u001b[0m \u001b[32m━━━━━━━━━━━━━━━━━━━━\u001b[0m\u001b[37m\u001b[0m \u001b[1m0s\u001b[0m 5ms/step - accuracy: 0.8094 - loss: 0.2909 - val_accuracy: 0.6496 - val_loss: 0.5944\n",
      "\u001b[1m6/6\u001b[0m \u001b[32m━━━━━━━━━━━━━━━━━━━━\u001b[0m\u001b[37m\u001b[0m \u001b[1m0s\u001b[0m 7ms/step \n"
     ]
    },
    {
     "data": {
      "image/png": "[encoded data removed]",
      "text/plain": [
       "<Figure size 600x400 with 2 Axes>"
      ]
     },
     "metadata": {},
     "output_type": "display_data"
    },
    {
     "name": "stdout",
     "output_type": "stream",
     "text": [
      "\n",
      "✅ Test Accuracy: 0.63\n",
      "\n",
      "📝 Classification Report:\n",
      "              precision    recall  f1-score   support\n",
      "\n",
      "           0       0.75      0.77      0.76       132\n",
      "           1       0.18      0.17      0.18        40\n",
      "\n",
      "    accuracy                           0.63       172\n",
      "   macro avg       0.47      0.47      0.47       172\n",
      "weighted avg       0.62      0.63      0.62       172\n",
      "\n"
     ]
    }
   ],
   "source": [
    "# Without SMOTE\n",
    "\n",
    "model, history = run_fall_detection_model(X_acc, X_all, y, apply_smote=False)"
   ]
  },
  {
   "cell_type": "code",
   "execution_count": null,
   "metadata": {},
   "outputs": [],
   "source": []
  }
 ],
 "metadata": {
  "kernelspec": {
   "display_name": ".venv",
   "language": "python",
   "name": "python3"
  },
  "language_info": {
   "codemirror_mode": {
    "name": "ipython",
    "version": 3
   },
   "file_extension": ".py",
   "mimetype": "text/x-python",
   "name": "python",
   "nbconvert_exporter": "python",
   "pygments_lexer": "ipython3",
   "version": "3.9.6"
  }
 },
 "nbformat": 4,
 "nbformat_minor": 2
}
